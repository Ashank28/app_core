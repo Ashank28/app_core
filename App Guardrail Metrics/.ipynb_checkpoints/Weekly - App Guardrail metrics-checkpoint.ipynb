{
 "cells": [
  {
   "cell_type": "code",
   "execution_count": 1,
   "metadata": {
    "execution": {
     "iopub.execute_input": "2025-04-25T16:26:00.307716Z",
     "iopub.status.busy": "2025-04-25T16:26:00.307051Z",
     "iopub.status.idle": "2025-04-25T16:26:00.455540Z",
     "shell.execute_reply": "2025-04-25T16:26:00.454488Z",
     "shell.execute_reply.started": "2025-04-25T16:26:00.307633Z"
    }
   },
   "outputs": [],
   "source": [
    "%config PPMagics.domain= \"ccg24-hrzana-fpa-product\";\n",
    "%config PPMagics.autolimit=0;\n",
    "%config PPMagics.fastload=True;\n",
    "%config PPMagics.enable_download=True"
   ]
  },
  {
   "cell_type": "markdown",
   "metadata": {
    "execution": {
     "iopub.execute_input": "2025-04-25T16:26:02.089375Z",
     "iopub.status.busy": "2025-04-25T16:26:02.088728Z"
    }
   },
   "source": [
    "## 1. Average sessions per user:"
   ]
  },
  {
   "cell_type": "code",
   "execution_count": 7,
   "metadata": {
    "execution": {
     "iopub.execute_input": "2025-04-25T16:28:59.869241Z",
     "iopub.status.busy": "2025-04-25T16:28:59.868694Z",
     "iopub.status.idle": "2025-04-25T16:29:17.689859Z",
     "shell.execute_reply": "2025-04-25T16:29:17.689028Z",
     "shell.execute_reply.started": "2025-04-25T16:28:59.869174Z"
    }
   },
   "outputs": [
    {
     "data": {
      "application/vnd.jupyter.widget-view+json": {
       "model_id": "4d8f979bca1b49488754e35f5611cb62",
       "version_major": 2,
       "version_minor": 0
      },
      "text/plain": [
       "HTML(value='')"
      ]
     },
     "metadata": {},
     "output_type": "display_data"
    },
    {
     "data": {
      "application/vnd.jupyter.widget-view+json": {
       "model_id": "539060b2b36e42bca3e27df653b280e2",
       "version_major": 2,
       "version_minor": 0
      },
      "text/plain": [
       "HTML(value='')"
      ]
     },
     "metadata": {},
     "output_type": "display_data"
    },
    {
     "name": "stdout",
     "output_type": "stream",
     "text": [
      "job id =  YXn4NyefDCE9h5FxQTXwqqIA9Bm\n",
      "total bytes billed 10397679616\n",
      "Total slot ms 2154083\n",
      "Time executed =  13.906  seconds\n",
      "."
     ]
    },
    {
     "data": {
      "application/vnd.jupyter.widget-view+json": {
       "model_id": "9e23c9a5669046238f209742c23f9d88",
       "version_major": 2,
       "version_minor": 0
      },
      "text/plain": [
       "HTML(value='')"
      ]
     },
     "metadata": {},
     "output_type": "display_data"
    },
    {
     "data": {
      "application/vnd.jupyter.widget-view+json": {
       "model_id": "1905693cf87745e09549f933f7f23374",
       "version_major": 2,
       "version_minor": 0
      },
      "text/plain": [
       "DownloadWidget(children=(HBox(children=(Dropdown(description='File Type:', index=1, options=('tde', 'csv', 'js…"
      ]
     },
     "metadata": {},
     "output_type": "display_data"
    },
    {
     "data": {
      "text/html": [
       "<table>\n",
       "    <tr>\n",
       "        <th>cntry_grp</th>\n",
       "        <th>total_weekly_custs</th>\n",
       "        <th>total_weekly_sessions</th>\n",
       "        <th>avg_sessn_per_user_per_week</th>\n",
       "    </tr>\n",
       "    <tr>\n",
       "        <td>US</td>\n",
       "        <td>14597848</td>\n",
       "        <td>47855186</td>\n",
       "        <td>3.2782356687095247</td>\n",
       "    </tr>\n",
       "    <tr>\n",
       "        <td>RoW</td>\n",
       "        <td>12377933</td>\n",
       "        <td>28769613</td>\n",
       "        <td>2.324266337521782</td>\n",
       "    </tr>\n",
       "    <tr>\n",
       "        <td>DE</td>\n",
       "        <td>11494745</td>\n",
       "        <td>26498239</td>\n",
       "        <td>2.305248093802864</td>\n",
       "    </tr>\n",
       "    <tr>\n",
       "        <td>GB</td>\n",
       "        <td>3014477</td>\n",
       "        <td>6790906</td>\n",
       "        <td>2.252764244013141</td>\n",
       "    </tr>\n",
       "</table>"
      ],
      "text/plain": [
       "  cntry_grp total_weekly_custs total_weekly_sessions  \\\n",
       "0        US           14597848              47855186   \n",
       "1       RoW           12377933              28769613   \n",
       "2        DE           11494745              26498239   \n",
       "3        GB            3014477               6790906   \n",
       "\n",
       "  avg_sessn_per_user_per_week  \n",
       "0                     3.27824  \n",
       "1                     2.32427  \n",
       "2                     2.30525  \n",
       "3                     2.25276  "
      ]
     },
     "execution_count": 7,
     "metadata": {},
     "output_type": "execute_result"
    }
   ],
   "source": [
    "SELECT \n",
    "     case when trim(prmry_reside_cntry_code) in ('US','DE','GB') then prmry_reside_cntry_code else 'RoW' end as cntry_grp\n",
    "    ,count(distinct cust_id) as total_weekly_custs\n",
    "    ,count(distinct sessn_key) as total_weekly_sessions\n",
    "    ,count(distinct sessn_key)/count(distinct cust_id) as avg_sessn_per_user_per_week\n",
    "FROM (select\n",
    "            a.cust_id\n",
    "            ,a.sessn_start_dt\n",
    "            ,a.sessn_key\n",
    "            ,a.prmry_reside_cntry_code\n",
    "      from `pypl-edw`.pp_product_analytics_datastore_views.cxp_login_active a\n",
    "      where sessn_start_dt between '2025-04-13' and '2025-04-19'\n",
    "      and rtrim(a.channel) = 'APP'\n",
    "      and fin_acct_type_code in ('PERSONAL','PREMIER') --New segmentation\n",
    "        --  and cust_acct_clsfn_key in (1,7) --older logic for consumer filter\n",
    "      and lower(client_os_catg) in ('android','ios')\n",
    "      group by all\n",
    "     ) \n",
    "group by 1\n",
    "order by 2 desc;"
   ]
  },
  {
   "cell_type": "markdown",
   "metadata": {
    "execution": {
     "iopub.execute_input": "2025-04-25T16:30:20.042437Z",
     "iopub.status.busy": "2025-04-25T16:30:20.041823Z",
     "iopub.status.idle": "2025-04-25T16:30:20.354904Z",
     "shell.execute_reply": "2025-04-25T16:30:20.352764Z",
     "shell.execute_reply.started": "2025-04-25T16:30:20.042363Z"
    }
   },
   "source": [
    "## 2. Repeated login sessions per user:"
   ]
  },
  {
   "cell_type": "code",
   "execution_count": 10,
   "metadata": {
    "execution": {
     "iopub.execute_input": "2025-04-25T16:32:00.255203Z",
     "iopub.status.busy": "2025-04-25T16:32:00.254539Z",
     "iopub.status.idle": "2025-04-25T16:32:17.968012Z",
     "shell.execute_reply": "2025-04-25T16:32:17.966860Z",
     "shell.execute_reply.started": "2025-04-25T16:32:00.255121Z"
    }
   },
   "outputs": [
    {
     "data": {
      "application/vnd.jupyter.widget-view+json": {
       "model_id": "9325394d7ec3437e83998bef98ed083a",
       "version_major": 2,
       "version_minor": 0
      },
      "text/plain": [
       "HTML(value='')"
      ]
     },
     "metadata": {},
     "output_type": "display_data"
    },
    {
     "data": {
      "application/vnd.jupyter.widget-view+json": {
       "model_id": "d16229f6ec46425284639534ff95399a",
       "version_major": 2,
       "version_minor": 0
      },
      "text/plain": [
       "HTML(value='')"
      ]
     },
     "metadata": {},
     "output_type": "display_data"
    },
    {
     "name": "stdout",
     "output_type": "stream",
     "text": [
      "job id =  4Dqx44jkgY7YZa8FINbuqGpc293\n",
      "total bytes billed 10397679616\n",
      "Total slot ms 1888556\n",
      "Time executed =  16.412  seconds\n",
      "."
     ]
    },
    {
     "data": {
      "application/vnd.jupyter.widget-view+json": {
       "model_id": "afcf08c9223c4e11ad75e6dcca523c92",
       "version_major": 2,
       "version_minor": 0
      },
      "text/plain": [
       "HTML(value='')"
      ]
     },
     "metadata": {},
     "output_type": "display_data"
    },
    {
     "data": {
      "application/vnd.jupyter.widget-view+json": {
       "model_id": "b613f0feb797430190806af21f99c4ea",
       "version_major": 2,
       "version_minor": 0
      },
      "text/plain": [
       "DownloadWidget(children=(HBox(children=(Dropdown(description='File Type:', index=1, options=('tde', 'csv', 'js…"
      ]
     },
     "metadata": {},
     "output_type": "display_data"
    },
    {
     "data": {
      "text/html": [
       "<table>\n",
       "    <tr>\n",
       "        <th>cntry_grp</th>\n",
       "        <th>total_weekly_custs</th>\n",
       "        <th>weekly_repeated_login_custs</th>\n",
       "        <th>repeated_login_percentage</th>\n",
       "    </tr>\n",
       "    <tr>\n",
       "        <td>US</td>\n",
       "        <td>14597848</td>\n",
       "        <td>7421275</td>\n",
       "        <td>0.508381440880875</td>\n",
       "    </tr>\n",
       "    <tr>\n",
       "        <td>RoW</td>\n",
       "        <td>12377933</td>\n",
       "        <td>5340654</td>\n",
       "        <td>0.4314657382617922</td>\n",
       "    </tr>\n",
       "    <tr>\n",
       "        <td>DE</td>\n",
       "        <td>11494745</td>\n",
       "        <td>5919424</td>\n",
       "        <td>0.5149678396519453</td>\n",
       "    </tr>\n",
       "    <tr>\n",
       "        <td>GB</td>\n",
       "        <td>3014477</td>\n",
       "        <td>1319204</td>\n",
       "        <td>0.43762284469246243</td>\n",
       "    </tr>\n",
       "</table>"
      ],
      "text/plain": [
       "  cntry_grp total_weekly_custs weekly_repeated_login_custs  \\\n",
       "0        US           14597848                     7421275   \n",
       "1       RoW           12377933                     5340654   \n",
       "2        DE           11494745                     5919424   \n",
       "3        GB            3014477                     1319204   \n",
       "\n",
       "  repeated_login_percentage  \n",
       "0                  0.508381  \n",
       "1                  0.431466  \n",
       "2                  0.514968  \n",
       "3                  0.437623  "
      ]
     },
     "execution_count": 10,
     "metadata": {},
     "output_type": "execute_result"
    }
   ],
   "source": [
    "select \n",
    "        cntry_grp\n",
    "        ,count(distinct cust_id) as total_weekly_custs\n",
    "        ,count(distinct case when sessions_per_user>=2 then cust_id else null end) as  weekly_repeated_login_custs\n",
    "        ,count(distinct case when sessions_per_user>=2 then cust_id else null end)/count(distinct cust_id) as  repeated_login_percentage\n",
    "        \n",
    "from (\n",
    "        SELECT \n",
    "            case when trim(prmry_reside_cntry_code) in ('US','DE','GB') then prmry_reside_cntry_code else 'RoW' end as cntry_grp\n",
    "            ,cust_id\n",
    "            ,count(distinct sessn_key) as sessions_per_user\n",
    "    FROM (select\n",
    "            a.cust_id\n",
    "            ,a.sessn_start_dt\n",
    "            ,a.sessn_key\n",
    "            ,a.prmry_reside_cntry_code\n",
    "          from `pypl-edw`.pp_product_analytics_datastore_views.cxp_login_active a\n",
    "          where sessn_start_dt between '2025-04-13' and '2025-04-19'\n",
    "          and rtrim(a.channel) = 'APP'\n",
    "          and fin_acct_type_code in ('PERSONAL','PREMIER') --New segmentation\n",
    "            --  and cust_acct_clsfn_key in (1,7) --older logic for consumer filter\n",
    "          and lower(client_os_catg) in ('android','ios')\n",
    "          group by all\n",
    "         ) \n",
    "    group by 1,2\n",
    ")\n",
    "group by 1;"
   ]
  },
  {
   "cell_type": "markdown",
   "metadata": {},
   "source": [
    "## 3. Weekly App login users - Transacting with Product (such as Checkout) same week"
   ]
  },
  {
   "cell_type": "code",
   "execution_count": 13,
   "metadata": {
    "execution": {
     "iopub.execute_input": "2025-04-25T16:36:37.246956Z",
     "iopub.status.busy": "2025-04-25T16:36:37.246266Z",
     "iopub.status.idle": "2025-04-25T16:37:05.215283Z",
     "shell.execute_reply": "2025-04-25T16:37:05.214620Z",
     "shell.execute_reply.started": "2025-04-25T16:36:37.246873Z"
    }
   },
   "outputs": [
    {
     "data": {
      "application/vnd.jupyter.widget-view+json": {
       "model_id": "fdbc249625a24155aab1333a2615d310",
       "version_major": 2,
       "version_minor": 0
      },
      "text/plain": [
       "HTML(value='')"
      ]
     },
     "metadata": {},
     "output_type": "display_data"
    },
    {
     "data": {
      "application/vnd.jupyter.widget-view+json": {
       "model_id": "99327f97f4ab45139d6cec50fb30071e",
       "version_major": 2,
       "version_minor": 0
      },
      "text/plain": [
       "HTML(value='')"
      ]
     },
     "metadata": {},
     "output_type": "display_data"
    },
    {
     "name": "stdout",
     "output_type": "stream",
     "text": [
      "job id =  KMCNuzbvWsf2733QOrRL0HaA0Ze\n",
      "total bytes billed 66803728384\n",
      "Total slot ms 5099332\n",
      "Time executed =  22.584  seconds\n",
      "."
     ]
    },
    {
     "data": {
      "application/vnd.jupyter.widget-view+json": {
       "model_id": "e0f8afb285c948dd836fcb65ea7db881",
       "version_major": 2,
       "version_minor": 0
      },
      "text/plain": [
       "HTML(value='')"
      ]
     },
     "metadata": {},
     "output_type": "display_data"
    },
    {
     "data": {
      "application/vnd.jupyter.widget-view+json": {
       "model_id": "0e13d3ed374a40a3a817e3e5ab1977e3",
       "version_major": 2,
       "version_minor": 0
      },
      "text/plain": [
       "DownloadWidget(children=(HBox(children=(Dropdown(description='File Type:', index=1, options=('tde', 'csv', 'js…"
      ]
     },
     "metadata": {},
     "output_type": "display_data"
    },
    {
     "data": {
      "text/html": [
       "<table>\n",
       "    <tr>\n",
       "        <th>cntry_grp</th>\n",
       "        <th>total_app_login_custs</th>\n",
       "        <th>XO_actives</th>\n",
       "        <th>percentage_XO_transacted</th>\n",
       "        <th>XO_trans_processing_volume</th>\n",
       "        <th>XO_total_transactions</th>\n",
       "        <th>XO_total_revenue</th>\n",
       "        <th>XO_avg_TPU</th>\n",
       "        <th>XO_avg_ARPU</th>\n",
       "    </tr>\n",
       "    <tr>\n",
       "        <td>DE</td>\n",
       "        <td>11494745</td>\n",
       "        <td>8260426</td>\n",
       "        <td>0.7186262940152217</td>\n",
       "        <td>3158438870.0</td>\n",
       "        <td>60202367</td>\n",
       "        <td>70102269.6</td>\n",
       "        <td>3.0770577410694315</td>\n",
       "        <td>3.58306063512779228816402096957957339243</td>\n",
       "    </tr>\n",
       "    <tr>\n",
       "        <td>GB</td>\n",
       "        <td>3014477</td>\n",
       "        <td>1625812</td>\n",
       "        <td>0.53933468392693</td>\n",
       "        <td>704191106.13</td>\n",
       "        <td>13319295</td>\n",
       "        <td>17934965.31</td>\n",
       "        <td>2.7563819206542144</td>\n",
       "        <td>3.71157888822528034012076571872737815712</td>\n",
       "    </tr>\n",
       "    <tr>\n",
       "        <td>RoW</td>\n",
       "        <td>12377933</td>\n",
       "        <td>4584951</td>\n",
       "        <td>0.3704132992156283</td>\n",
       "        <td>1934713698.94</td>\n",
       "        <td>33194526</td>\n",
       "        <td>52941020.06</td>\n",
       "        <td>1.7514970382155257</td>\n",
       "        <td>2.79341358376976721509524438679263203083</td>\n",
       "    </tr>\n",
       "    <tr>\n",
       "        <td>US</td>\n",
       "        <td>14597848</td>\n",
       "        <td>6210337</td>\n",
       "        <td>0.42542825490442154</td>\n",
       "        <td>5973192086.78</td>\n",
       "        <td>102835164</td>\n",
       "        <td>153747571.01</td>\n",
       "        <td>3.783762033298889</td>\n",
       "        <td>5.65705542026036406403542038620104090728</td>\n",
       "    </tr>\n",
       "</table>"
      ],
      "text/plain": [
       "  cntry_grp total_app_login_custs XO_actives percentage_XO_transacted  \\\n",
       "0        DE              11494745    8260426                 0.718626   \n",
       "1        GB               3014477    1625812                 0.539335   \n",
       "2       RoW              12377933    4584951                 0.370413   \n",
       "3        US              14597848    6210337                 0.425428   \n",
       "\n",
       "  XO_trans_processing_volume XO_total_transactions XO_total_revenue  \\\n",
       "0               3158438870.0              60202367       70102269.6   \n",
       "1               704191106.13              13319295      17934965.31   \n",
       "2              1934713698.94              33194526      52941020.06   \n",
       "3              5973192086.78             102835164     153747571.01   \n",
       "\n",
       "  XO_avg_TPU                               XO_avg_ARPU  \n",
       "0    3.07706  3.58306063512779228816402096957957339243  \n",
       "1    2.75638  3.71157888822528034012076571872737815712  \n",
       "2     1.7515  2.79341358376976721509524438679263203083  \n",
       "3    3.78376  5.65705542026036406403542038620104090728  "
      ]
     },
     "execution_count": 13,
     "metadata": {},
     "output_type": "execute_result"
    }
   ],
   "source": [
    "WITH revenue_metric AS\n",
    "(\n",
    "    select\n",
    "         case when trim(prmry_reside_cntry_code) in ('US','DE','GB') then prmry_reside_cntry_code else 'RoW' end as cntry_grp\n",
    "        ,a.sessn_start_dt\n",
    "        ,a.cust_id\n",
    "        ,max(case when b.cust_id is not null then 1 else 0 end) as user_transacted_flag\n",
    "        ,sum(txn_cnt) as num_txns\n",
    "        ,sum(tpv) as tpv\n",
    "        ,sum(revenue) sum_rev\n",
    "    from (select\n",
    "             a.cust_id\n",
    "            ,a.sessn_start_dt\n",
    "            ,a.sessn_key\n",
    "            ,a.prmry_reside_cntry_code\n",
    "          from `pypl-edw`.pp_product_analytics_datastore_views.cxp_login_active a\n",
    "          where sessn_start_dt between '2025-04-13' and '2025-04-19'\n",
    "          and rtrim(a.channel) = 'APP'\n",
    "          and fin_acct_type_code in ('PERSONAL','PREMIER') --New segmentation\n",
    "            --  and cust_acct_clsfn_key in (1,7) --older logic for consumer filter\n",
    "          and lower(client_os_catg) in ('android','ios')\n",
    "          group by all\n",
    "         )  a\n",
    "    left join (select *\n",
    "                from pypl-edw.pp_peak_views.digitalwallet_daily_custlist as a\n",
    "                where a.cal_dt between '2025-04-13' and '2025-04-19'\n",
    "                and a.dw_product  in ('CHECKOUT')\n",
    "                )b \n",
    "    on a.cust_id = b.cust_id \n",
    "    and last_day(a.sessn_start_dt,week) = last_day(b.cal_dt,week)\n",
    "    group by 1,2,3\n",
    ")\n",
    "\n",
    "SELECT \n",
    "        cntry_grp,\n",
    "        count(distinct cust_id) as total_app_login_custs, \n",
    "        count(distinct case when user_transacted_flag=1 then cust_id end) as XO_actives,\n",
    "        count(distinct case when user_transacted_flag=1 then cust_id end)/count(distinct cust_id) as percentage_XO_transacted,\n",
    "        sum(tpv) as XO_trans_processing_volume,\n",
    "        sum(num_txns) as XO_total_transactions,\n",
    "        sum(sum_rev) as XO_total_revenue,\n",
    "        avg(coalesce(num_txns,0)) as XO_avg_TPU,\n",
    "        avg(coalesce(sum_rev,0)) as XO_avg_ARPU\n",
    "FROM revenue_metric\n",
    "group by 1\n",
    "order by 1;"
   ]
  },
  {
   "cell_type": "code",
   "execution_count": null,
   "metadata": {},
   "outputs": [],
   "source": []
  }
 ],
 "metadata": {
  "kernelspec": {
   "display_name": "BigQuery",
   "language": "",
   "name": "bigquerykernel"
  },
  "language_info": {
   "codemirror_mode": "text/x-sql",
   "mimetype": "text/x-sql",
   "name": "SQL",
   "pygments_lexer": "r"
  }
 },
 "nbformat": 4,
 "nbformat_minor": 4
}
