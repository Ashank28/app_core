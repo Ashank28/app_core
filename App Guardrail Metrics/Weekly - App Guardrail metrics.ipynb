{
 "cells": [
  {
   "cell_type": "code",
   "execution_count": 1,
   "metadata": {
    "execution": {
     "iopub.execute_input": "2025-04-25T16:26:00.307716Z",
     "iopub.status.busy": "2025-04-25T16:26:00.307051Z",
     "iopub.status.idle": "2025-04-25T16:26:00.455540Z",
     "shell.execute_reply": "2025-04-25T16:26:00.454488Z",
     "shell.execute_reply.started": "2025-04-25T16:26:00.307633Z"
    }
   },
   "outputs": [],
   "source": [
    "%config PPMagics.domain= \"ccg24-hrzana-fpa-product\";\n",
    "%config PPMagics.autolimit=0;\n",
    "%config PPMagics.fastload=True;\n",
    "%config PPMagics.enable_download=True"
   ]
  },
  {
   "cell_type": "markdown",
   "metadata": {
    "execution": {
     "iopub.execute_input": "2025-04-25T16:26:02.089375Z",
     "iopub.status.busy": "2025-04-25T16:26:02.088728Z"
    }
   },
   "source": [
    "## 1. Average sessions per user:"
   ]
  },
  {
   "cell_type": "code",
   "execution_count": 7,
   "metadata": {
    "execution": {
     "iopub.execute_input": "2025-04-25T16:28:59.869241Z",
     "iopub.status.busy": "2025-04-25T16:28:59.868694Z",
     "iopub.status.idle": "2025-04-25T16:29:17.689859Z",
     "shell.execute_reply": "2025-04-25T16:29:17.689028Z",
     "shell.execute_reply.started": "2025-04-25T16:28:59.869174Z"
    }
   },
   "outputs": [
    {
     "data": {
      "application/vnd.jupyter.widget-view+json": {
       "model_id": "4d8f979bca1b49488754e35f5611cb62",
       "version_major": 2,
       "version_minor": 0
      },
      "text/plain": [
       "HTML(value='')"
      ]
     },
     "metadata": {},
     "output_type": "display_data"
    },
    {
     "data": {
      "application/vnd.jupyter.widget-view+json": {
       "model_id": "539060b2b36e42bca3e27df653b280e2",
       "version_major": 2,
       "version_minor": 0
      },
      "text/plain": [
       "HTML(value='')"
      ]
     },
     "metadata": {},
     "output_type": "display_data"
    },
    {
     "name": "stdout",
     "output_type": "stream",
     "text": [
      "job id =  YXn4NyefDCE9h5FxQTXwqqIA9Bm\n",
      "total bytes billed 10397679616\n",
      "Total slot ms 2154083\n",
      "Time executed =  13.906  seconds\n",
      "."
     ]
    },
    {
     "data": {
      "application/vnd.jupyter.widget-view+json": {
       "model_id": "9e23c9a5669046238f209742c23f9d88",
       "version_major": 2,
       "version_minor": 0
      },
      "text/plain": [
       "HTML(value='')"
      ]
     },
     "metadata": {},
     "output_type": "display_data"
    },
    {
     "data": {
      "application/vnd.jupyter.widget-view+json": {
       "model_id": "1905693cf87745e09549f933f7f23374",
       "version_major": 2,
       "version_minor": 0
      },
      "text/plain": [
       "DownloadWidget(children=(HBox(children=(Dropdown(description='File Type:', index=1, options=('tde', 'csv', 'js…"
      ]
     },
     "metadata": {},
     "output_type": "display_data"
    },
    {
     "data": {
      "text/html": [
       "<table>\n",
       "    <tr>\n",
       "        <th>cntry_grp</th>\n",
       "        <th>total_weekly_custs</th>\n",
       "        <th>total_weekly_sessions</th>\n",
       "        <th>avg_sessn_per_user_per_week</th>\n",
       "    </tr>\n",
       "    <tr>\n",
       "        <td>US</td>\n",
       "        <td>14597848</td>\n",
       "        <td>47855186</td>\n",
       "        <td>3.2782356687095247</td>\n",
       "    </tr>\n",
       "    <tr>\n",
       "        <td>RoW</td>\n",
       "        <td>12377933</td>\n",
       "        <td>28769613</td>\n",
       "        <td>2.324266337521782</td>\n",
       "    </tr>\n",
       "    <tr>\n",
       "        <td>DE</td>\n",
       "        <td>11494745</td>\n",
       "        <td>26498239</td>\n",
       "        <td>2.305248093802864</td>\n",
       "    </tr>\n",
       "    <tr>\n",
       "        <td>GB</td>\n",
       "        <td>3014477</td>\n",
       "        <td>6790906</td>\n",
       "        <td>2.252764244013141</td>\n",
       "    </tr>\n",
       "</table>"
      ],
      "text/plain": [
       "  cntry_grp total_weekly_custs total_weekly_sessions  \\\n",
       "0        US           14597848              47855186   \n",
       "1       RoW           12377933              28769613   \n",
       "2        DE           11494745              26498239   \n",
       "3        GB            3014477               6790906   \n",
       "\n",
       "  avg_sessn_per_user_per_week  \n",
       "0                     3.27824  \n",
       "1                     2.32427  \n",
       "2                     2.30525  \n",
       "3                     2.25276  "
      ]
     },
     "execution_count": 7,
     "metadata": {},
     "output_type": "execute_result"
    }
   ],
   "source": [
    "SELECT \n",
    "     case when trim(prmry_reside_cntry_code) in ('US','DE','GB') then prmry_reside_cntry_code else 'RoW' end as cntry_grp\n",
    "    ,count(distinct cust_id) as total_weekly_custs\n",
    "    ,count(distinct sessn_key) as total_weekly_sessions\n",
    "    ,count(distinct sessn_key)/count(distinct cust_id) as avg_sessn_per_user_per_week\n",
    "FROM (select\n",
    "            a.cust_id\n",
    "            ,a.sessn_start_dt\n",
    "            ,a.sessn_key\n",
    "            ,a.prmry_reside_cntry_code\n",
    "      from `pypl-edw`.pp_product_analytics_datastore_views.cxp_login_active a\n",
    "      where sessn_start_dt between '2025-04-13' and '2025-04-19'\n",
    "      and rtrim(a.channel) = 'APP'\n",
    "      and fin_acct_type_code in ('PERSONAL','PREMIER') --New segmentation\n",
    "        --  and cust_acct_clsfn_key in (1,7) --older logic for consumer filter\n",
    "      and lower(client_os_catg) in ('android','ios')\n",
    "      group by all\n",
    "     ) \n",
    "group by 1\n",
    "order by 2 desc;"
   ]
  },
  {
   "cell_type": "markdown",
   "metadata": {
    "execution": {
     "iopub.execute_input": "2025-04-25T16:30:20.042437Z",
     "iopub.status.busy": "2025-04-25T16:30:20.041823Z",
     "iopub.status.idle": "2025-04-25T16:30:20.354904Z",
     "shell.execute_reply": "2025-04-25T16:30:20.352764Z",
     "shell.execute_reply.started": "2025-04-25T16:30:20.042363Z"
    }
   },
   "source": [
    "## 2. Repeated login sessions per user:"
   ]
  },
  {
   "cell_type": "code",
   "execution_count": 10,
   "metadata": {
    "execution": {
     "iopub.execute_input": "2025-04-25T16:32:00.255203Z",
     "iopub.status.busy": "2025-04-25T16:32:00.254539Z",
     "iopub.status.idle": "2025-04-25T16:32:17.968012Z",
     "shell.execute_reply": "2025-04-25T16:32:17.966860Z",
     "shell.execute_reply.started": "2025-04-25T16:32:00.255121Z"
    }
   },
   "outputs": [
    {
     "data": {
      "application/vnd.jupyter.widget-view+json": {
       "model_id": "9325394d7ec3437e83998bef98ed083a",
       "version_major": 2,
       "version_minor": 0
      },
      "text/plain": [
       "HTML(value='')"
      ]
     },
     "metadata": {},
     "output_type": "display_data"
    },
    {
     "data": {
      "application/vnd.jupyter.widget-view+json": {
       "model_id": "d16229f6ec46425284639534ff95399a",
       "version_major": 2,
       "version_minor": 0
      },
      "text/plain": [
       "HTML(value='')"
      ]
     },
     "metadata": {},
     "output_type": "display_data"
    },
    {
     "name": "stdout",
     "output_type": "stream",
     "text": [
      "job id =  4Dqx44jkgY7YZa8FINbuqGpc293\n",
      "total bytes billed 10397679616\n",
      "Total slot ms 1888556\n",
      "Time executed =  16.412  seconds\n",
      "."
     ]
    },
    {
     "data": {
      "application/vnd.jupyter.widget-view+json": {
       "model_id": "afcf08c9223c4e11ad75e6dcca523c92",
       "version_major": 2,
       "version_minor": 0
      },
      "text/plain": [
       "HTML(value='')"
      ]
     },
     "metadata": {},
     "output_type": "display_data"
    },
    {
     "data": {
      "application/vnd.jupyter.widget-view+json": {
       "model_id": "b613f0feb797430190806af21f99c4ea",
       "version_major": 2,
       "version_minor": 0
      },
      "text/plain": [
       "DownloadWidget(children=(HBox(children=(Dropdown(description='File Type:', index=1, options=('tde', 'csv', 'js…"
      ]
     },
     "metadata": {},
     "output_type": "display_data"
    },
    {
     "data": {
      "text/html": [
       "<table>\n",
       "    <tr>\n",
       "        <th>cntry_grp</th>\n",
       "        <th>total_weekly_custs</th>\n",
       "        <th>weekly_repeated_login_custs</th>\n",
       "        <th>repeated_login_percentage</th>\n",
       "    </tr>\n",
       "    <tr>\n",
       "        <td>US</td>\n",
       "        <td>14597848</td>\n",
       "        <td>7421275</td>\n",
       "        <td>0.508381440880875</td>\n",
       "    </tr>\n",
       "    <tr>\n",
       "        <td>RoW</td>\n",
       "        <td>12377933</td>\n",
       "        <td>5340654</td>\n",
       "        <td>0.4314657382617922</td>\n",
       "    </tr>\n",
       "    <tr>\n",
       "        <td>DE</td>\n",
       "        <td>11494745</td>\n",
       "        <td>5919424</td>\n",
       "        <td>0.5149678396519453</td>\n",
       "    </tr>\n",
       "    <tr>\n",
       "        <td>GB</td>\n",
       "        <td>3014477</td>\n",
       "        <td>1319204</td>\n",
       "        <td>0.43762284469246243</td>\n",
       "    </tr>\n",
       "</table>"
      ],
      "text/plain": [
       "  cntry_grp total_weekly_custs weekly_repeated_login_custs  \\\n",
       "0        US           14597848                     7421275   \n",
       "1       RoW           12377933                     5340654   \n",
       "2        DE           11494745                     5919424   \n",
       "3        GB            3014477                     1319204   \n",
       "\n",
       "  repeated_login_percentage  \n",
       "0                  0.508381  \n",
       "1                  0.431466  \n",
       "2                  0.514968  \n",
       "3                  0.437623  "
      ]
     },
     "execution_count": 10,
     "metadata": {},
     "output_type": "execute_result"
    }
   ],
   "source": [
    "select \n",
    "        cntry_grp\n",
    "        ,count(distinct cust_id) as total_weekly_custs\n",
    "        ,count(distinct case when sessions_per_user>=2 then cust_id else null end) as  weekly_repeated_login_custs\n",
    "        ,count(distinct case when sessions_per_user>=2 then cust_id else null end)/count(distinct cust_id) as  repeated_login_percentage\n",
    "        \n",
    "from (\n",
    "        SELECT \n",
    "            case when trim(prmry_reside_cntry_code) in ('US','DE','GB') then prmry_reside_cntry_code else 'RoW' end as cntry_grp\n",
    "            ,cust_id\n",
    "            ,count(distinct sessn_key) as sessions_per_user\n",
    "    FROM (select\n",
    "            a.cust_id\n",
    "            ,a.sessn_start_dt\n",
    "            ,a.sessn_key\n",
    "            ,a.prmry_reside_cntry_code\n",
    "          from `pypl-edw`.pp_product_analytics_datastore_views.cxp_login_active a\n",
    "          where sessn_start_dt between '2025-04-13' and '2025-04-19'\n",
    "          and rtrim(a.channel) = 'APP'\n",
    "          and fin_acct_type_code in ('PERSONAL','PREMIER') --New segmentation\n",
    "            --  and cust_acct_clsfn_key in (1,7) --older logic for consumer filter\n",
    "          and lower(client_os_catg) in ('android','ios')\n",
    "          group by all\n",
    "         ) \n",
    "    group by 1,2\n",
    ")\n",
    "group by 1;"
   ]
  },
  {
   "cell_type": "markdown",
   "metadata": {},
   "source": [
    "## 3. Weekly App login users - Transacting with Product (such as Checkout) same week"
   ]
  },
  {
   "cell_type": "code",
   "execution_count": 23,
   "metadata": {
    "execution": {
     "iopub.execute_input": "2025-04-25T16:48:50.056229Z",
     "iopub.status.busy": "2025-04-25T16:48:50.055579Z",
     "iopub.status.idle": "2025-04-25T16:49:18.127436Z",
     "shell.execute_reply": "2025-04-25T16:49:18.126542Z",
     "shell.execute_reply.started": "2025-04-25T16:48:50.056149Z"
    }
   },
   "outputs": [
    {
     "data": {
      "application/vnd.jupyter.widget-view+json": {
       "model_id": "81046d0653ca42c3a6b68be8310e23a1",
       "version_major": 2,
       "version_minor": 0
      },
      "text/plain": [
       "HTML(value='')"
      ]
     },
     "metadata": {},
     "output_type": "display_data"
    },
    {
     "data": {
      "application/vnd.jupyter.widget-view+json": {
       "model_id": "80241abf29b44304a1d848722e2edb5a",
       "version_major": 2,
       "version_minor": 0
      },
      "text/plain": [
       "HTML(value='')"
      ]
     },
     "metadata": {},
     "output_type": "display_data"
    },
    {
     "name": "stdout",
     "output_type": "stream",
     "text": [
      "job id =  A2bJYBAhbGRDEhKmYQoNqAYi1av\n",
      "total bytes billed 64432898048\n",
      "Total slot ms 3573330\n",
      "Time executed =  25.37  seconds\n",
      "."
     ]
    },
    {
     "data": {
      "application/vnd.jupyter.widget-view+json": {
       "model_id": "0f03a0e7df9b4008a1f9182482da613b",
       "version_major": 2,
       "version_minor": 0
      },
      "text/plain": [
       "HTML(value='')"
      ]
     },
     "metadata": {},
     "output_type": "display_data"
    },
    {
     "data": {
      "application/vnd.jupyter.widget-view+json": {
       "model_id": "ed4b3fbda52445fa9493671ab712fdd7",
       "version_major": 2,
       "version_minor": 0
      },
      "text/plain": [
       "DownloadWidget(children=(HBox(children=(Dropdown(description='File Type:', index=1, options=('tde', 'csv', 'js…"
      ]
     },
     "metadata": {},
     "output_type": "display_data"
    },
    {
     "data": {
      "text/html": [
       "<table>\n",
       "    <tr>\n",
       "        <th>cntry_grp</th>\n",
       "        <th>total_app_login_custs</th>\n",
       "        <th>XO_actives</th>\n",
       "        <th>percentage_XO_transacted</th>\n",
       "        <th>XO_trans_processing_volume</th>\n",
       "        <th>XO_total_transactions</th>\n",
       "        <th>XO_total_revenue</th>\n",
       "        <th>XO_avg_TPU</th>\n",
       "        <th>XO_avg_ARPU</th>\n",
       "    </tr>\n",
       "    <tr>\n",
       "        <td>DE</td>\n",
       "        <td>11494745</td>\n",
       "        <td>8260426</td>\n",
       "        <td>0.7186262940152217</td>\n",
       "        <td>1159882784.59</td>\n",
       "        <td>21992587</td>\n",
       "        <td>24230665.75</td>\n",
       "        <td>1.9132731522099877</td>\n",
       "        <td>2.10797766718617942372797308683228727562</td>\n",
       "    </tr>\n",
       "    <tr>\n",
       "        <td>GB</td>\n",
       "        <td>3014477</td>\n",
       "        <td>1625812</td>\n",
       "        <td>0.53933468392693</td>\n",
       "        <td>221964381.92</td>\n",
       "        <td>4200536</td>\n",
       "        <td>5163224.75</td>\n",
       "        <td>1.393454320600224</td>\n",
       "        <td>1.71280946910525441063242479541227217856</td>\n",
       "    </tr>\n",
       "    <tr>\n",
       "        <td>RoW</td>\n",
       "        <td>12377933</td>\n",
       "        <td>4584951</td>\n",
       "        <td>0.3704132992156283</td>\n",
       "        <td>636145898.15</td>\n",
       "        <td>11003654</td>\n",
       "        <td>16164370.01</td>\n",
       "        <td>0.8889734659252062</td>\n",
       "        <td>1.30590220596605265192500234085933410691</td>\n",
       "    </tr>\n",
       "    <tr>\n",
       "        <td>US</td>\n",
       "        <td>14597848</td>\n",
       "        <td>6210337</td>\n",
       "        <td>0.42542825490442154</td>\n",
       "        <td>1064963771.06</td>\n",
       "        <td>18435208</td>\n",
       "        <td>25843795.2</td>\n",
       "        <td>1.2628716232694024</td>\n",
       "        <td>1.77038390864187652864997635267883320884</td>\n",
       "    </tr>\n",
       "</table>"
      ],
      "text/plain": [
       "  cntry_grp total_app_login_custs XO_actives percentage_XO_transacted  \\\n",
       "0        DE              11494745    8260426                 0.718626   \n",
       "1        GB               3014477    1625812                 0.539335   \n",
       "2       RoW              12377933    4584951                 0.370413   \n",
       "3        US              14597848    6210337                 0.425428   \n",
       "\n",
       "  XO_trans_processing_volume XO_total_transactions XO_total_revenue  \\\n",
       "0              1159882784.59              21992587      24230665.75   \n",
       "1               221964381.92               4200536       5163224.75   \n",
       "2               636145898.15              11003654      16164370.01   \n",
       "3              1064963771.06              18435208       25843795.2   \n",
       "\n",
       "  XO_avg_TPU                               XO_avg_ARPU  \n",
       "0    1.91327  2.10797766718617942372797308683228727562  \n",
       "1    1.39345  1.71280946910525441063242479541227217856  \n",
       "2   0.888973  1.30590220596605265192500234085933410691  \n",
       "3    1.26287  1.77038390864187652864997635267883320884  "
      ]
     },
     "execution_count": 23,
     "metadata": {},
     "output_type": "execute_result"
    }
   ],
   "source": [
    "WITH revenue_metric AS\n",
    "(\n",
    "    select\n",
    "         case when trim(prmry_reside_cntry_code) in ('US','DE','GB') then prmry_reside_cntry_code else 'RoW' end as cntry_grp\n",
    "        ,a.cust_id\n",
    "        ,max(case when b.cust_id is not null then 1 else 0 end) as user_transacted_flag\n",
    "        ,sum(txn_cnt) as num_txns\n",
    "        ,sum(tpv) as tpv\n",
    "        ,sum(revenue) sum_rev\n",
    "    from (select\n",
    "            a.prmry_reside_cntry_code,\n",
    "             a.cust_id\n",
    "             ,last_day(a.sessn_start_dt,week) as app_login_week\n",
    "          from `pypl-edw`.pp_product_analytics_datastore_views.cxp_login_active a\n",
    "          where sessn_start_dt between '2025-04-13' and '2025-04-19'\n",
    "          and rtrim(a.channel) = 'APP'\n",
    "          and fin_acct_type_code in ('PERSONAL','PREMIER') --New segmentation\n",
    "            --  and cust_acct_clsfn_key in (1,7) --older logic for consumer filter\n",
    "          and lower(client_os_catg) in ('android','ios')\n",
    "          group by all\n",
    "         )  a\n",
    "    left join (select *\n",
    "                from pypl-edw.pp_peak_views.digitalwallet_daily_custlist as a\n",
    "                where a.cal_dt between '2025-04-13' and '2025-04-19'\n",
    "                and a.dw_product  in ('CHECKOUT')\n",
    "                )b \n",
    "    on a.cust_id = b.cust_id \n",
    "    and a.app_login_week = last_day(b.cal_dt,week)\n",
    "    group by 1,2\n",
    ")\n",
    "\n",
    "SELECT \n",
    "        cntry_grp,\n",
    "        count(distinct cust_id) as total_app_login_custs, \n",
    "        count(distinct case when user_transacted_flag=1 then cust_id end) as XO_actives,\n",
    "        count(distinct case when user_transacted_flag=1 then cust_id end)/count(distinct cust_id) as percentage_XO_transacted,\n",
    "        sum(tpv) as XO_trans_processing_volume,\n",
    "        sum(num_txns) as XO_total_transactions,\n",
    "        sum(sum_rev) as XO_total_revenue,\n",
    "        avg(coalesce(num_txns,0)) as XO_avg_TPU,\n",
    "        avg(coalesce(sum_rev,0)) as XO_avg_ARPU\n",
    "FROM revenue_metric\n",
    "group by 1\n",
    "order by 1;"
   ]
  },
  {
   "cell_type": "markdown",
   "metadata": {},
   "source": [
    "## 4. Weekly App login users - Transacting with overall DW Products - same week"
   ]
  },
  {
   "cell_type": "code",
   "execution_count": 21,
   "metadata": {
    "execution": {
     "iopub.execute_input": "2025-04-25T16:45:41.427733Z",
     "iopub.status.busy": "2025-04-25T16:45:41.427073Z",
     "iopub.status.idle": "2025-04-25T16:46:04.297534Z",
     "shell.execute_reply": "2025-04-25T16:46:04.296633Z",
     "shell.execute_reply.started": "2025-04-25T16:45:41.427650Z"
    }
   },
   "outputs": [
    {
     "data": {
      "application/vnd.jupyter.widget-view+json": {
       "model_id": "d5807cba30bf480f94948cd5a0b08d6e",
       "version_major": 2,
       "version_minor": 0
      },
      "text/plain": [
       "HTML(value='')"
      ]
     },
     "metadata": {},
     "output_type": "display_data"
    },
    {
     "data": {
      "application/vnd.jupyter.widget-view+json": {
       "model_id": "663bfbe138f44397b1ec3f77560ccdd0",
       "version_major": 2,
       "version_minor": 0
      },
      "text/plain": [
       "HTML(value='')"
      ]
     },
     "metadata": {},
     "output_type": "display_data"
    },
    {
     "name": "stdout",
     "output_type": "stream",
     "text": [
      "job id =  byR1RCTO6pCJH0lRQ4K1A5tjQ14\n",
      "total bytes billed 64432898048\n",
      "Total slot ms 3282686\n",
      "Time executed =  19.468  seconds\n",
      "."
     ]
    },
    {
     "data": {
      "application/vnd.jupyter.widget-view+json": {
       "model_id": "4cb4ec062e884a5ab9ad92f3c43bf4b1",
       "version_major": 2,
       "version_minor": 0
      },
      "text/plain": [
       "HTML(value='')"
      ]
     },
     "metadata": {},
     "output_type": "display_data"
    },
    {
     "data": {
      "application/vnd.jupyter.widget-view+json": {
       "model_id": "4e3f6f43798e41f29388eafbf51bb891",
       "version_major": 2,
       "version_minor": 0
      },
      "text/plain": [
       "DownloadWidget(children=(HBox(children=(Dropdown(description='File Type:', index=1, options=('tde', 'csv', 'js…"
      ]
     },
     "metadata": {},
     "output_type": "display_data"
    },
    {
     "data": {
      "text/html": [
       "<table>\n",
       "    <tr>\n",
       "        <th>cntry_grp</th>\n",
       "        <th>total_app_login_custs</th>\n",
       "        <th>DW_actives</th>\n",
       "        <th>percentage_DW_transacted</th>\n",
       "        <th>DW_trans_processing_volume</th>\n",
       "        <th>DW_total_transactions</th>\n",
       "        <th>DW_total_revenue</th>\n",
       "        <th>DW_avg_TPU</th>\n",
       "        <th>DW_avg_ARPU</th>\n",
       "    </tr>\n",
       "    <tr>\n",
       "        <td>DE</td>\n",
       "        <td>11494745</td>\n",
       "        <td>10211081</td>\n",
       "        <td>0.8883260133217397</td>\n",
       "        <td>1991617953.78</td>\n",
       "        <td>32531735</td>\n",
       "        <td>25891123.58</td>\n",
       "        <td>2.830139772565633</td>\n",
       "        <td>2.25243131361330764623312652868767423723</td>\n",
       "    </tr>\n",
       "    <tr>\n",
       "        <td>GB</td>\n",
       "        <td>3014477</td>\n",
       "        <td>2106712</td>\n",
       "        <td>0.6988648445484905</td>\n",
       "        <td>404767738.84</td>\n",
       "        <td>5734004</td>\n",
       "        <td>6412555.63</td>\n",
       "        <td>1.9021554982837814</td>\n",
       "        <td>2.12725312881803377501304538067465766035</td>\n",
       "    </tr>\n",
       "    <tr>\n",
       "        <td>RoW</td>\n",
       "        <td>12377933</td>\n",
       "        <td>6796775</td>\n",
       "        <td>0.5491042001923908</td>\n",
       "        <td>1194570782.04</td>\n",
       "        <td>15812104</td>\n",
       "        <td>24559373.67</td>\n",
       "        <td>1.277443010880735</td>\n",
       "        <td>1.98412559431368710753241272189791300373</td>\n",
       "    </tr>\n",
       "    <tr>\n",
       "        <td>US</td>\n",
       "        <td>14597848</td>\n",
       "        <td>9478624</td>\n",
       "        <td>0.6493165293952917</td>\n",
       "        <td>3396747113.62000000000009792167077193880686536438</td>\n",
       "        <td>39248166</td>\n",
       "        <td>48014714.16000000000000174582570622305865981602</td>\n",
       "        <td>2.6886268441759356</td>\n",
       "        <td>3.28916386579720517709197587382100588105</td>\n",
       "    </tr>\n",
       "</table>"
      ],
      "text/plain": [
       "  cntry_grp total_app_login_custs DW_actives percentage_DW_transacted  \\\n",
       "0        DE              11494745   10211081                 0.888326   \n",
       "1        GB               3014477    2106712                 0.698865   \n",
       "2       RoW              12377933    6796775                 0.549104   \n",
       "3        US              14597848    9478624                 0.649317   \n",
       "\n",
       "                          DW_trans_processing_volume DW_total_transactions  \\\n",
       "0                                      1991617953.78              32531735   \n",
       "1                                       404767738.84               5734004   \n",
       "2                                      1194570782.04              15812104   \n",
       "3  3396747113.62000000000009792167077193880686536438              39248166   \n",
       "\n",
       "                                  DW_total_revenue DW_avg_TPU  \\\n",
       "0                                      25891123.58    2.83014   \n",
       "1                                       6412555.63    1.90216   \n",
       "2                                      24559373.67    1.27744   \n",
       "3  48014714.16000000000000174582570622305865981602    2.68863   \n",
       "\n",
       "                                DW_avg_ARPU  \n",
       "0  2.25243131361330764623312652868767423723  \n",
       "1  2.12725312881803377501304538067465766035  \n",
       "2  1.98412559431368710753241272189791300373  \n",
       "3  3.28916386579720517709197587382100588105  "
      ]
     },
     "execution_count": 21,
     "metadata": {},
     "output_type": "execute_result"
    }
   ],
   "source": [
    "WITH revenue_metric AS\n",
    "(\n",
    "    select\n",
    "         case when trim(prmry_reside_cntry_code) in ('US','DE','GB') then prmry_reside_cntry_code else 'RoW' end as cntry_grp\n",
    "        ,a.cust_id\n",
    "        ,max(case when b.cust_id is not null then 1 else 0 end) as user_transacted_flag\n",
    "        ,sum(txn_cnt) as num_txns\n",
    "        ,sum(tpv) as tpv\n",
    "        ,sum(revenue) sum_rev\n",
    "    from (select\n",
    "             a.prmry_reside_cntry_code,\n",
    "             a.cust_id\n",
    "             ,last_day(a.sessn_start_dt,week) as app_login_week\n",
    "          from `pypl-edw`.pp_product_analytics_datastore_views.cxp_login_active a\n",
    "          where sessn_start_dt between '2025-04-13' and '2025-04-19'\n",
    "          and rtrim(a.channel) = 'APP'\n",
    "          and fin_acct_type_code in ('PERSONAL','PREMIER') --New segmentation\n",
    "            --  and cust_acct_clsfn_key in (1,7) --older logic for consumer filter\n",
    "          and lower(client_os_catg) in ('android','ios')\n",
    "          group by all\n",
    "         )  a\n",
    "    left join (select *\n",
    "                from pypl-edw.pp_peak_views.digitalwallet_daily_custlist as a\n",
    "                where a.cal_dt between '2025-04-13' and '2025-04-19'\n",
    "                and a.dw_product not in ('DONATE - PAYPAL', 'P2P F&F', 'P2P G&S', 'DONATE', 'DONATE - GENEROSITY NETWORK', 'QRC - Instore', 'QRC - Casual','CHECKOUT',\n",
    "                       'SAVINGS - FUNDS IN', 'SAVINGS - FUNDS OUT','PAYPAL CB CREDIT CARD', 'PAYPAL CREDIT', 'BNPL','ADD FUNDS','ADD FUNDS - INSTANT','XOOM', 'CHECKOUT', \n",
    "                       'P2P - Receivers', 'P2P - Senders', 'P2P F&F - Receivers', 'P2P F&F - Senders', 'P2P G&S - Receivers', 'P2P G&S - Senders')\n",
    "                )b \n",
    "    on a.cust_id = b.cust_id \n",
    "    and a.app_login_week = last_day(b.cal_dt,week)\n",
    "    group by 1,2\n",
    ")\n",
    "\n",
    "SELECT \n",
    "        cntry_grp,\n",
    "        count(distinct cust_id) as total_app_login_custs, \n",
    "        count(distinct case when user_transacted_flag=1 then cust_id end) as DW_actives,\n",
    "        count(distinct case when user_transacted_flag=1 then cust_id end)/count(distinct cust_id) as percentage_DW_transacted,\n",
    "        sum(tpv) as DW_trans_processing_volume,\n",
    "        sum(num_txns) as DW_total_transactions,\n",
    "        sum(sum_rev) as DW_total_revenue,\n",
    "        avg(coalesce(num_txns,0)) as DW_avg_TPU,\n",
    "        avg(coalesce(sum_rev,0)) as DW_avg_ARPU\n",
    "FROM revenue_metric\n",
    "group by 1\n",
    "order by 1;"
   ]
  },
  {
   "cell_type": "code",
   "execution_count": null,
   "metadata": {},
   "outputs": [],
   "source": []
  }
 ],
 "metadata": {
  "kernelspec": {
   "display_name": "BigQuery",
   "language": "",
   "name": "bigquerykernel"
  },
  "language_info": {
   "codemirror_mode": "text/x-sql",
   "mimetype": "text/x-sql",
   "name": "SQL",
   "pygments_lexer": "r"
  }
 },
 "nbformat": 4,
 "nbformat_minor": 4
}
