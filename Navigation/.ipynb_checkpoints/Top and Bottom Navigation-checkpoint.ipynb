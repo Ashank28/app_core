{
 "cells": [
  {
   "cell_type": "code",
   "execution_count": 1,
   "metadata": {
    "execution": {
     "iopub.execute_input": "2025-04-25T16:06:01.819144Z",
     "iopub.status.busy": "2025-04-25T16:06:01.818554Z",
     "iopub.status.idle": "2025-04-25T16:06:01.963234Z",
     "shell.execute_reply": "2025-04-25T16:06:01.962207Z",
     "shell.execute_reply.started": "2025-04-25T16:06:01.819068Z"
    }
   },
   "outputs": [],
   "source": [
    "%config PPMagics.domain= \"ccg24-hrzana-fpa-product\";\n",
    "%config PPMagics.autolimit=0;\n",
    "%config PPMagics.fastload=True;\n",
    "%config PPMagics.enable_download=True"
   ]
  },
  {
   "cell_type": "markdown",
   "metadata": {},
   "source": [
    "### Creating temporary 1 week base for app login which will be used in all codes:-"
   ]
  },
  {
   "cell_type": "code",
   "execution_count": 2,
   "metadata": {
    "execution": {
     "iopub.execute_input": "2025-04-25T16:06:27.237819Z",
     "iopub.status.busy": "2025-04-25T16:06:27.237212Z",
     "iopub.status.idle": "2025-04-25T16:06:52.790107Z",
     "shell.execute_reply": "2025-04-25T16:06:52.788875Z",
     "shell.execute_reply.started": "2025-04-25T16:06:27.237745Z"
    }
   },
   "outputs": [
    {
     "data": {
      "application/vnd.jupyter.widget-view+json": {
       "model_id": "dc7eeed62e4141eb8fd77fe820596b98",
       "version_major": 2,
       "version_minor": 0
      },
      "text/plain": [
       "HTML(value='')"
      ]
     },
     "metadata": {},
     "output_type": "display_data"
    },
    {
     "data": {
      "application/vnd.jupyter.widget-view+json": {
       "model_id": "813106091a12499eb956976418cd7f74",
       "version_major": 2,
       "version_minor": 0
      },
      "text/plain": [
       "HTML(value='')"
      ]
     },
     "metadata": {},
     "output_type": "display_data"
    },
    {
     "name": "stdout",
     "output_type": "stream",
     "text": [
      "job id =  NgQDPaeiuV3HrItKlWarkTmKnJf\n",
      "total bytes billed 10397679616\n",
      "Total slot ms 878655\n",
      "Time executed =  8.039  seconds\n"
     ]
    },
    {
     "data": {
      "application/vnd.jupyter.widget-view+json": {
       "model_id": "367259583e454c50959b06c514d985bc",
       "version_major": 2,
       "version_minor": 0
      },
      "text/plain": [
       "HTML(value='')"
      ]
     },
     "metadata": {},
     "output_type": "display_data"
    },
    {
     "data": {
      "application/vnd.jupyter.widget-view+json": {
       "model_id": "d4570c10d06946d9a95c2b3686f4d363",
       "version_major": 2,
       "version_minor": 0
      },
      "text/plain": [
       "DownloadWidget(children=(HBox(children=(Dropdown(description='File Type:', index=1, options=('tde', 'csv', 'js…"
      ]
     },
     "metadata": {},
     "output_type": "display_data"
    },
    {
     "data": {
      "text/html": [
       "<table>\n",
       "    <tr>\n",
       "        <th>cust_id</th>\n",
       "        <th>login_week_dt</th>\n",
       "        <th>sessn_start_dt</th>\n",
       "        <th>sessn_key</th>\n",
       "    </tr>\n",
       "</table>"
      ],
      "text/plain": [
       "Empty DataFrame\n",
       "Columns: [cust_id, login_week_dt, sessn_start_dt, sessn_key]\n",
       "Index: []"
      ]
     },
     "execution_count": 2,
     "metadata": {},
     "output_type": "execute_result"
    }
   ],
   "source": [
    "create or replace table  `pypl-edw`.pp_scratch.temp_app_login_base_US as\n",
    "select\n",
    "         a.cust_id\n",
    "       ,date_trunc(sessn_start_dt,week) as login_week_dt\n",
    "       ,a.sessn_start_dt\n",
    "       ,a.sessn_key\n",
    "from `pypl-edw`.pp_product_analytics_datastore_views.cxp_login_active a\n",
    "where sessn_start_dt between '2025-04-13' and '2025-04-19'\n",
    "and rtrim(a.channel) = 'APP'\n",
    "and fin_acct_type_code in ('PERSONAL','PREMIER') --New segmentation\n",
    "--  and cust_acct_clsfn_key in (1,7) --older logic for consumer filter\n",
    "and lower(client_os_catg) in ('android','ios')\n",
    "and trim(prmry_reside_cntry_code) = 'US' --update this filter for DE\n",
    "group by all;"
   ]
  },
  {
   "cell_type": "code",
   "execution_count": 3,
   "metadata": {
    "execution": {
     "iopub.execute_input": "2025-04-25T16:06:52.791163Z",
     "iopub.status.busy": "2025-04-25T16:06:52.791012Z",
     "iopub.status.idle": "2025-04-25T16:07:00.153592Z",
     "shell.execute_reply": "2025-04-25T16:07:00.152608Z",
     "shell.execute_reply.started": "2025-04-25T16:06:52.791143Z"
    }
   },
   "outputs": [
    {
     "data": {
      "application/vnd.jupyter.widget-view+json": {
       "model_id": "507b29ed010d4dbb9812e499a71ea116",
       "version_major": 2,
       "version_minor": 0
      },
      "text/plain": [
       "HTML(value='')"
      ]
     },
     "metadata": {},
     "output_type": "display_data"
    },
    {
     "data": {
      "application/vnd.jupyter.widget-view+json": {
       "model_id": "cbc7a7a0ba724bb899044a85b10c660a",
       "version_major": 2,
       "version_minor": 0
      },
      "text/plain": [
       "HTML(value='')"
      ]
     },
     "metadata": {},
     "output_type": "display_data"
    },
    {
     "name": "stdout",
     "output_type": "stream",
     "text": [
      "job id =  muByDAdzkp5XYQwEHlWRJyr14Rp\n",
      "total bytes billed 2171600896\n",
      "Total slot ms 562434\n",
      "Time executed =  4.462  seconds\n",
      "."
     ]
    },
    {
     "data": {
      "application/vnd.jupyter.widget-view+json": {
       "model_id": "b3a1a5535e654142b64fd378a2d76930",
       "version_major": 2,
       "version_minor": 0
      },
      "text/plain": [
       "HTML(value='')"
      ]
     },
     "metadata": {},
     "output_type": "display_data"
    },
    {
     "data": {
      "application/vnd.jupyter.widget-view+json": {
       "model_id": "ccdb1ed9e98f4cfe84988aa8e91c8e82",
       "version_major": 2,
       "version_minor": 0
      },
      "text/plain": [
       "DownloadWidget(children=(HBox(children=(Dropdown(description='File Type:', index=1, options=('tde', 'csv', 'js…"
      ]
     },
     "metadata": {},
     "output_type": "display_data"
    },
    {
     "data": {
      "text/html": [
       "<table>\n",
       "    <tr>\n",
       "        <th>login_week_dt</th>\n",
       "        <th>custs</th>\n",
       "        <th>sessns</th>\n",
       "    </tr>\n",
       "    <tr>\n",
       "        <td>2025-04-13</td>\n",
       "        <td>14597848</td>\n",
       "        <td>47855186</td>\n",
       "    </tr>\n",
       "</table>"
      ],
      "text/plain": [
       "  login_week_dt     custs    sessns\n",
       "0    2025-04-13  14597848  47855186"
      ]
     },
     "execution_count": 3,
     "metadata": {},
     "output_type": "execute_result"
    }
   ],
   "source": [
    "select login_week_dt, count(distinct cust_id) as custs, count(distinct sessn_key) as sessns\n",
    "from `pypl-edw`.pp_scratch.temp_app_login_base_US\n",
    "group by 1;"
   ]
  },
  {
   "cell_type": "markdown",
   "metadata": {
    "execution": {
     "iopub.execute_input": "2025-04-25T16:07:00.157652Z",
     "iopub.status.busy": "2025-04-25T16:07:00.157419Z",
     "iopub.status.idle": "2025-04-25T16:07:00.349155Z",
     "shell.execute_reply": "2025-04-25T16:07:00.346943Z",
     "shell.execute_reply.started": "2025-04-25T16:07:00.157620Z"
    }
   },
   "source": [
    "## 1. Engagement on Navigation - Bottom Navigation (Footer)"
   ]
  },
  {
   "cell_type": "code",
   "execution_count": 7,
   "metadata": {
    "execution": {
     "iopub.execute_input": "2025-04-25T16:12:24.397473Z",
     "iopub.status.busy": "2025-04-25T16:12:24.396811Z",
     "iopub.status.idle": "2025-04-25T16:12:32.279471Z",
     "shell.execute_reply": "2025-04-25T16:12:32.278608Z",
     "shell.execute_reply.started": "2025-04-25T16:12:24.397388Z"
    }
   },
   "outputs": [
    {
     "data": {
      "application/vnd.jupyter.widget-view+json": {
       "model_id": "825658bc62ce443eb87d623b28fce494",
       "version_major": 2,
       "version_minor": 0
      },
      "text/plain": [
       "HTML(value='')"
      ]
     },
     "metadata": {},
     "output_type": "display_data"
    },
    {
     "data": {
      "application/vnd.jupyter.widget-view+json": {
       "model_id": "020e4d30c80d4111872e66719bc7425a",
       "version_major": 2,
       "version_minor": 0
      },
      "text/plain": [
       "HTML(value='')"
      ]
     },
     "metadata": {},
     "output_type": "display_data"
    },
    {
     "name": "stdout",
     "output_type": "stream",
     "text": [
      "job id =  gIFqdN9CmcvY0eDsTsaLZlB0fAn\n",
      "total bytes billed 116696023040\n",
      "Total slot ms 4630789\n",
      "Time executed =  6.127  seconds\n",
      "."
     ]
    },
    {
     "data": {
      "application/vnd.jupyter.widget-view+json": {
       "model_id": "4d0626779e2946929adb542194a1c1bd",
       "version_major": 2,
       "version_minor": 0
      },
      "text/plain": [
       "HTML(value='')"
      ]
     },
     "metadata": {},
     "output_type": "display_data"
    },
    {
     "data": {
      "application/vnd.jupyter.widget-view+json": {
       "model_id": "f1e772feff9e4076b9a8dc1b026bf882",
       "version_major": 2,
       "version_minor": 0
      },
      "text/plain": [
       "DownloadWidget(children=(HBox(children=(Dropdown(description='File Type:', index=1, options=('tde', 'csv', 'js…"
      ]
     },
     "metadata": {},
     "output_type": "display_data"
    },
    {
     "data": {
      "text/html": [
       "<table>\n",
       "    <tr>\n",
       "        <th>week_dt</th>\n",
       "        <th>tile</th>\n",
       "        <th>custs_im</th>\n",
       "        <th>custs_cl</th>\n",
       "    </tr>\n",
       "    <tr>\n",
       "        <td>2025-04-13</td>\n",
       "        <td>nav_footer_dashboard</td>\n",
       "        <td>14269473</td>\n",
       "        <td>4213045</td>\n",
       "    </tr>\n",
       "    <tr>\n",
       "        <td>2025-04-13</td>\n",
       "        <td>nav_footer_accounts</td>\n",
       "        <td>13945854</td>\n",
       "        <td>3797463</td>\n",
       "    </tr>\n",
       "    <tr>\n",
       "        <td>2025-04-13</td>\n",
       "        <td>nav_footer_send_request</td>\n",
       "        <td>13945072</td>\n",
       "        <td>3122879</td>\n",
       "    </tr>\n",
       "    <tr>\n",
       "        <td>2025-04-13</td>\n",
       "        <td>nav_footer_activity</td>\n",
       "        <td>13944083</td>\n",
       "        <td>4355019</td>\n",
       "    </tr>\n",
       "    <tr>\n",
       "        <td>2025-04-13</td>\n",
       "        <td>nav_footer_offers</td>\n",
       "        <td>13942803</td>\n",
       "        <td>1488820</td>\n",
       "    </tr>\n",
       "    <tr>\n",
       "        <td>2025-04-13</td>\n",
       "        <td>nav_footer_wallet</td>\n",
       "        <td>413533</td>\n",
       "        <td>72015</td>\n",
       "    </tr>\n",
       "    <tr>\n",
       "        <td>2025-04-13</td>\n",
       "        <td>nav_footer_payment</td>\n",
       "        <td>413369</td>\n",
       "        <td>55096</td>\n",
       "    </tr>\n",
       "    <tr>\n",
       "        <td>2025-04-13</td>\n",
       "        <td>nav_footer_finances</td>\n",
       "        <td>412784</td>\n",
       "        <td>44092</td>\n",
       "    </tr>\n",
       "    <tr>\n",
       "        <td>2025-04-13</td>\n",
       "        <td>nav_footer_rewards</td>\n",
       "        <td>325806</td>\n",
       "        <td>24629</td>\n",
       "    </tr>\n",
       "    <tr>\n",
       "        <td>2025-04-13</td>\n",
       "        <td>nav_footer_deals</td>\n",
       "        <td>89785</td>\n",
       "        <td>7343</td>\n",
       "    </tr>\n",
       "    <tr>\n",
       "        <td>2025-04-13</td>\n",
       "        <td>nav_footer_home_biz</td>\n",
       "        <td>23941</td>\n",
       "        <td>9854</td>\n",
       "    </tr>\n",
       "    <tr>\n",
       "        <td>2025-04-13</td>\n",
       "        <td>nav_footer_super_app</td>\n",
       "        <td>23940</td>\n",
       "        <td>10746</td>\n",
       "    </tr>\n",
       "    <tr>\n",
       "        <td>2025-04-13</td>\n",
       "        <td>nav_footer_customers</td>\n",
       "        <td>23940</td>\n",
       "        <td>6368</td>\n",
       "    </tr>\n",
       "    <tr>\n",
       "        <td>2025-04-13</td>\n",
       "        <td>nav_footer_help</td>\n",
       "        <td>19959</td>\n",
       "        <td>47</td>\n",
       "    </tr>\n",
       "    <tr>\n",
       "        <td>2025-04-13</td>\n",
       "        <td>nav_footer_contact</td>\n",
       "        <td>19348</td>\n",
       "        <td>72</td>\n",
       "    </tr>\n",
       "    <tr>\n",
       "        <td>2025-04-13</td>\n",
       "        <td>nav_footer_security</td>\n",
       "        <td>18705</td>\n",
       "        <td>14</td>\n",
       "    </tr>\n",
       "    <tr>\n",
       "        <td>2025-04-13</td>\n",
       "        <td>nav_footer_fees</td>\n",
       "        <td>16180</td>\n",
       "        <td>15</td>\n",
       "    </tr>\n",
       "    <tr>\n",
       "        <td>2025-04-13</td>\n",
       "        <td>nav_footer_privacy</td>\n",
       "        <td>7887</td>\n",
       "        <td>1</td>\n",
       "    </tr>\n",
       "    <tr>\n",
       "        <td>2025-04-13</td>\n",
       "        <td>nav_footer_legal</td>\n",
       "        <td>4467</td>\n",
       "        <td>0</td>\n",
       "    </tr>\n",
       "    <tr>\n",
       "        <td>2025-04-13</td>\n",
       "        <td>nav_footer_policy</td>\n",
       "        <td>3138</td>\n",
       "        <td>0</td>\n",
       "    </tr>\n",
       "    <tr>\n",
       "        <td>2025-04-13</td>\n",
       "        <td>nav_footer_business_profile</td>\n",
       "        <td>947</td>\n",
       "        <td>112</td>\n",
       "    </tr>\n",
       "    <tr>\n",
       "        <td>2025-04-13</td>\n",
       "        <td>nav_footer_menu</td>\n",
       "        <td>56</td>\n",
       "        <td>1</td>\n",
       "    </tr>\n",
       "</table>"
      ],
      "text/plain": [
       "       week_dt                         tile  custs_im custs_cl\n",
       "0   2025-04-13         nav_footer_dashboard  14269473  4213045\n",
       "1   2025-04-13          nav_footer_accounts  13945854  3797463\n",
       "2   2025-04-13      nav_footer_send_request  13945072  3122879\n",
       "3   2025-04-13          nav_footer_activity  13944083  4355019\n",
       "4   2025-04-13            nav_footer_offers  13942803  1488820\n",
       "5   2025-04-13            nav_footer_wallet    413533    72015\n",
       "6   2025-04-13           nav_footer_payment    413369    55096\n",
       "7   2025-04-13          nav_footer_finances    412784    44092\n",
       "8   2025-04-13           nav_footer_rewards    325806    24629\n",
       "9   2025-04-13             nav_footer_deals     89785     7343\n",
       "10  2025-04-13          nav_footer_home_biz     23941     9854\n",
       "11  2025-04-13         nav_footer_super_app     23940    10746\n",
       "12  2025-04-13         nav_footer_customers     23940     6368\n",
       "13  2025-04-13              nav_footer_help     19959       47\n",
       "14  2025-04-13           nav_footer_contact     19348       72\n",
       "15  2025-04-13          nav_footer_security     18705       14\n",
       "16  2025-04-13              nav_footer_fees     16180       15\n",
       "17  2025-04-13           nav_footer_privacy      7887        1\n",
       "18  2025-04-13             nav_footer_legal      4467        0\n",
       "19  2025-04-13            nav_footer_policy      3138        0\n",
       "20  2025-04-13  nav_footer_business_profile       947      112\n",
       "21  2025-04-13              nav_footer_menu        56        1"
      ]
     },
     "execution_count": 7,
     "metadata": {},
     "output_type": "execute_result"
    }
   ],
   "source": [
    "select \n",
    "         date_trunc(a.evnt_dt,week) as week_dt\n",
    "        ,a.tile\n",
    "        ,count(distinct case when event_name='dw_nav_footer_shown' then a.cust_id end) as custs_im\n",
    "        ,count(distinct case when event_name='dw_nav_footer_pressed' then a.cust_id end) as custs_cl\n",
    "\n",
    "\n",
    "from pypl-edw.pp_peak_views.dw_web_evnt_nav_hub_v3 a --Navigation events peak table\n",
    "join `pypl-edw`.pp_scratch.temp_app_login_base_US as b --Restricting for US app logins\n",
    "on a.cust_id=b.cust_id\n",
    "and a.evnt_dt=b.sessn_start_dt\n",
    "\n",
    "where a.channel='APP'\n",
    "and a.evnt_dt between '2025-04-13' and '2025-04-19'\n",
    "-- and a.cust_acct_clsfn_key in (1,7)\n",
    "and module in ('footer')\n",
    "and event_name in ('dw_nav_footer_shown','dw_nav_footer_pressed')\n",
    "group by 1,2\n",
    "order by 1,3 desc;"
   ]
  },
  {
   "cell_type": "markdown",
   "metadata": {},
   "source": [
    "## 2. Engagement on Navigation - Top Navigation (Header)"
   ]
  },
  {
   "cell_type": "code",
   "execution_count": 8,
   "metadata": {
    "execution": {
     "iopub.execute_input": "2025-04-25T16:13:30.805319Z",
     "iopub.status.busy": "2025-04-25T16:13:30.804657Z",
     "iopub.status.idle": "2025-04-25T16:13:38.409094Z",
     "shell.execute_reply": "2025-04-25T16:13:38.408007Z",
     "shell.execute_reply.started": "2025-04-25T16:13:30.805227Z"
    }
   },
   "outputs": [
    {
     "data": {
      "application/vnd.jupyter.widget-view+json": {
       "model_id": "4aec744dbd524bbd89da1d69b45496a5",
       "version_major": 2,
       "version_minor": 0
      },
      "text/plain": [
       "HTML(value='')"
      ]
     },
     "metadata": {},
     "output_type": "display_data"
    },
    {
     "data": {
      "application/vnd.jupyter.widget-view+json": {
       "model_id": "0132d52a305c457eb2a8a954c5db5493",
       "version_major": 2,
       "version_minor": 0
      },
      "text/plain": [
       "HTML(value='')"
      ]
     },
     "metadata": {},
     "output_type": "display_data"
    },
    {
     "name": "stdout",
     "output_type": "stream",
     "text": [
      "job id =  6vIhKv84ZwoIBohGwbwbtnDxdrf\n",
      "total bytes billed 116696023040\n",
      "Total slot ms 2475430\n",
      "Time executed =  4.681  seconds\n",
      "."
     ]
    },
    {
     "data": {
      "application/vnd.jupyter.widget-view+json": {
       "model_id": "5230b23c702c4215b1643394ba8919db",
       "version_major": 2,
       "version_minor": 0
      },
      "text/plain": [
       "HTML(value='')"
      ]
     },
     "metadata": {},
     "output_type": "display_data"
    },
    {
     "data": {
      "application/vnd.jupyter.widget-view+json": {
       "model_id": "da35ee5bb51647ada740ddd3f7fcf2a8",
       "version_major": 2,
       "version_minor": 0
      },
      "text/plain": [
       "DownloadWidget(children=(HBox(children=(Dropdown(description='File Type:', index=1, options=('tde', 'csv', 'js…"
      ]
     },
     "metadata": {},
     "output_type": "display_data"
    },
    {
     "data": {
      "text/html": [
       "<table>\n",
       "    <tr>\n",
       "        <th>week_dt</th>\n",
       "        <th>tile</th>\n",
       "        <th>custs_im</th>\n",
       "        <th>custs_cl</th>\n",
       "    </tr>\n",
       "    <tr>\n",
       "        <td>2025-04-13</td>\n",
       "        <td>nav_header_qrc</td>\n",
       "        <td>14166400</td>\n",
       "        <td>615691</td>\n",
       "    </tr>\n",
       "    <tr>\n",
       "        <td>2025-04-13</td>\n",
       "        <td>nav_header_profile</td>\n",
       "        <td>14164854</td>\n",
       "        <td>3322299</td>\n",
       "    </tr>\n",
       "    <tr>\n",
       "        <td>2025-04-13</td>\n",
       "        <td>nav_header_app_menu</td>\n",
       "        <td>14156226</td>\n",
       "        <td>2306042</td>\n",
       "    </tr>\n",
       "    <tr>\n",
       "        <td>2025-04-13</td>\n",
       "        <td>nav_header_rewards</td>\n",
       "        <td>77641</td>\n",
       "        <td>4395</td>\n",
       "    </tr>\n",
       "    <tr>\n",
       "        <td>2025-04-13</td>\n",
       "        <td>nav_header_settings</td>\n",
       "        <td>23579</td>\n",
       "        <td>5809</td>\n",
       "    </tr>\n",
       "    <tr>\n",
       "        <td>2025-04-13</td>\n",
       "        <td>nav_header_notification</td>\n",
       "        <td>23579</td>\n",
       "        <td>1964</td>\n",
       "    </tr>\n",
       "    <tr>\n",
       "        <td>2025-04-13</td>\n",
       "        <td>nav_header_menu</td>\n",
       "        <td>11343</td>\n",
       "        <td>3791</td>\n",
       "    </tr>\n",
       "    <tr>\n",
       "        <td>2025-04-13</td>\n",
       "        <td>nav_header_add_user</td>\n",
       "        <td>6372</td>\n",
       "        <td>366</td>\n",
       "    </tr>\n",
       "    <tr>\n",
       "        <td>2025-04-13</td>\n",
       "        <td>nav_header_wallet</td>\n",
       "        <td>4471</td>\n",
       "        <td>477</td>\n",
       "    </tr>\n",
       "    <tr>\n",
       "        <td>2025-04-13</td>\n",
       "        <td>nav_header_payment</td>\n",
       "        <td>4421</td>\n",
       "        <td>420</td>\n",
       "    </tr>\n",
       "    <tr>\n",
       "        <td>2025-04-13</td>\n",
       "        <td>nav_header_deals</td>\n",
       "        <td>4420</td>\n",
       "        <td>129</td>\n",
       "    </tr>\n",
       "    <tr>\n",
       "        <td>2025-04-13</td>\n",
       "        <td>nav_header_activity</td>\n",
       "        <td>4399</td>\n",
       "        <td>571</td>\n",
       "    </tr>\n",
       "    <tr>\n",
       "        <td>2025-04-13</td>\n",
       "        <td>nav_header_finances</td>\n",
       "        <td>4395</td>\n",
       "        <td>261</td>\n",
       "    </tr>\n",
       "    <tr>\n",
       "        <td>2025-04-13</td>\n",
       "        <td>nav_header_dashboard</td>\n",
       "        <td>4395</td>\n",
       "        <td>1548</td>\n",
       "    </tr>\n",
       "    <tr>\n",
       "        <td>2025-04-13</td>\n",
       "        <td>nav_header_help</td>\n",
       "        <td>4322</td>\n",
       "        <td>80</td>\n",
       "    </tr>\n",
       "    <tr>\n",
       "        <td>2025-04-13</td>\n",
       "        <td>nav_header_close</td>\n",
       "        <td>1388</td>\n",
       "        <td>456</td>\n",
       "    </tr>\n",
       "    <tr>\n",
       "        <td>2025-04-13</td>\n",
       "        <td>nav_header_help_center</td>\n",
       "        <td>77</td>\n",
       "        <td>0</td>\n",
       "    </tr>\n",
       "    <tr>\n",
       "        <td>2025-04-13</td>\n",
       "        <td>nav_header_search</td>\n",
       "        <td>12</td>\n",
       "        <td>0</td>\n",
       "    </tr>\n",
       "    <tr>\n",
       "        <td>2025-04-13</td>\n",
       "        <td>nav_header_contactless_p2p</td>\n",
       "        <td>11</td>\n",
       "        <td>2</td>\n",
       "    </tr>\n",
       "    <tr>\n",
       "        <td>2025-04-13</td>\n",
       "        <td>nav_header_nfc</td>\n",
       "        <td>0</td>\n",
       "        <td>10</td>\n",
       "    </tr>\n",
       "</table>"
      ],
      "text/plain": [
       "       week_dt                        tile  custs_im custs_cl\n",
       "0   2025-04-13              nav_header_qrc  14166400   615691\n",
       "1   2025-04-13          nav_header_profile  14164854  3322299\n",
       "2   2025-04-13         nav_header_app_menu  14156226  2306042\n",
       "3   2025-04-13          nav_header_rewards     77641     4395\n",
       "4   2025-04-13         nav_header_settings     23579     5809\n",
       "5   2025-04-13     nav_header_notification     23579     1964\n",
       "6   2025-04-13             nav_header_menu     11343     3791\n",
       "7   2025-04-13         nav_header_add_user      6372      366\n",
       "8   2025-04-13           nav_header_wallet      4471      477\n",
       "9   2025-04-13          nav_header_payment      4421      420\n",
       "10  2025-04-13            nav_header_deals      4420      129\n",
       "11  2025-04-13         nav_header_activity      4399      571\n",
       "12  2025-04-13         nav_header_finances      4395      261\n",
       "13  2025-04-13        nav_header_dashboard      4395     1548\n",
       "14  2025-04-13             nav_header_help      4322       80\n",
       "15  2025-04-13            nav_header_close      1388      456\n",
       "16  2025-04-13      nav_header_help_center        77        0\n",
       "17  2025-04-13           nav_header_search        12        0\n",
       "18  2025-04-13  nav_header_contactless_p2p        11        2\n",
       "19  2025-04-13              nav_header_nfc         0       10"
      ]
     },
     "execution_count": 8,
     "metadata": {},
     "output_type": "execute_result"
    }
   ],
   "source": [
    "select \n",
    "         date_trunc(a.evnt_dt,week) as week_dt\n",
    "        ,a.tile\n",
    "        ,count(distinct case when event_name='dw_nav_header_shown' then a.cust_id end) as custs_im\n",
    "        ,count(distinct case when event_name='dw_nav_header_pressed' then a.cust_id end) as custs_cl\n",
    "\n",
    "\n",
    "from pypl-edw.pp_peak_views.dw_web_evnt_nav_hub_v3 a --Navigation events peak table\n",
    "join `pypl-edw`.pp_scratch.temp_app_login_base_US as b --Restricting for US app logins\n",
    "on a.cust_id=b.cust_id\n",
    "and a.evnt_dt=b.sessn_start_dt\n",
    "\n",
    "where a.channel='APP'\n",
    "and a.evnt_dt between '2025-04-13' and '2025-04-19'\n",
    "-- and a.cust_acct_clsfn_key in (1,7)\n",
    "and module in ('header')\n",
    "and event_name in ('dw_nav_header_shown','dw_nav_header_pressed')\n",
    "group by 1,2\n",
    "order by 1,3 desc;"
   ]
  },
  {
   "cell_type": "code",
   "execution_count": null,
   "metadata": {},
   "outputs": [],
   "source": []
  }
 ],
 "metadata": {
  "kernelspec": {
   "display_name": "BigQuery",
   "language": "",
   "name": "bigquerykernel"
  },
  "language_info": {
   "codemirror_mode": "text/x-sql",
   "mimetype": "text/x-sql",
   "name": "SQL",
   "pygments_lexer": "r"
  }
 },
 "nbformat": 4,
 "nbformat_minor": 4
}
